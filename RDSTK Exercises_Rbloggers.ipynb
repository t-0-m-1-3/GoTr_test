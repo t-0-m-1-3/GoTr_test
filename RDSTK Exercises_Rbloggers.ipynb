{
 "cells": [
  {
   "cell_type": "markdown",
   "metadata": {},
   "source": [
    "# Exercises for the RDTSK\n",
    "## from <a href=\"https://www.r-bloggers.com/data-hacking-with-rdstk-part-1/\" target=\"_blank\">New Tab</a>"
   ]
  },
  {
   "cell_type": "code",
   "execution_count": 12,
   "metadata": {
    "collapsed": false,
    "scrolled": true
   },
   "outputs": [
    {
     "name": "stderr",
     "output_type": "stream",
     "text": [
      "Warning message:\n",
      "\"package 'RDSTK' was built under R version 3.2.5\"Loading required package: plyr\n",
      "Warning message:\n",
      "\"package 'plyr' was built under R version 3.2.5\"Loading required package: rjson\n",
      "Warning message:\n",
      "\"package 'rjson' was built under R version 3.2.5\"Loading required package: RCurl\n",
      "Warning message:\n",
      "\"package 'RCurl' was built under R version 3.2.5\"Loading required package: bitops\n",
      "Warning message:\n",
      "\"package 'bitops' was built under R version 3.2.5\""
     ]
    }
   ],
   "source": [
    "#Exercise 1: Install the packages\n",
    "#update.packages(,repos='http://cran.us.r-project.org')\n",
    "library('RDSTK')"
   ]
  },
  {
   "cell_type": "code",
   "execution_count": 16,
   "metadata": {
    "collapsed": false
   },
   "outputs": [
    {
     "data": {
      "text/html": [
       "<table>\n",
       "<thead><tr><th scope=col>ip.address</th><th scope=col>dma_code</th><th scope=col>latitude</th><th scope=col>country_code3</th><th scope=col>area_code</th><th scope=col>longitude</th><th scope=col>country_name</th><th scope=col>postal_code</th><th scope=col>region</th><th scope=col>locality</th><th scope=col>country_code</th></tr></thead>\n",
       "<tbody>\n",
       "\t<tr><td>165.124.145.197</td><td>602            </td><td>42.0586        </td><td>USA            </td><td>847            </td><td>-87.6845       </td><td>United States  </td><td>60208          </td><td>IL             </td><td>Evanston       </td><td>US             </td></tr>\n",
       "</tbody>\n",
       "</table>\n"
      ],
      "text/latex": [
       "\\begin{tabular}{r|lllllllllll}\n",
       " ip.address & dma\\_code & latitude & country\\_code3 & area\\_code & longitude & country\\_name & postal\\_code & region & locality & country\\_code\\\\\n",
       "\\hline\n",
       "\t 165.124.145.197 & 602             & 42.0586         & USA             & 847             & -87.6845        & United States   & 60208           & IL              & Evanston        & US             \\\\\n",
       "\\end{tabular}\n"
      ],
      "text/markdown": [
       "\n",
       "ip.address | dma_code | latitude | country_code3 | area_code | longitude | country_name | postal_code | region | locality | country_code | \n",
       "|---|\n",
       "| 165.124.145.197 | 602             | 42.0586         | USA             | 847             | -87.6845        | United States   | 60208           | IL              | Evanston        | US              | \n",
       "\n",
       "\n"
      ],
      "text/plain": [
       "  ip.address      dma_code latitude country_code3 area_code longitude\n",
       "1 165.124.145.197 602      42.0586  USA           847       -87.6845 \n",
       "  country_name  postal_code region locality country_code\n",
       "1 United States 60208       IL     Evanston US          "
      ]
     },
     "metadata": {},
     "output_type": "display_data"
    }
   ],
   "source": [
    "#Exercise 2: Convert the ip adress to co-ordinates. address=”165.124.145.197″. Store the results under the variable stat\n",
    "ip2coordinates('165.124.145.197') -> x\n",
    "x -> stat\n",
    "stat"
   ]
  },
  {
   "cell_type": "code",
   "execution_count": 23,
   "metadata": {
    "collapsed": false
   },
   "outputs": [
    {
     "data": {
      "text/html": [
       "<table>\n",
       "<thead><tr><th scope=col>statistics.elevation.value</th><th scope=col>statistics.elevation.source_name</th><th scope=col>statistics.elevation.units</th><th scope=col>statistics.elevation.description</th><th scope=col>location.latitude</th><th scope=col>location.longitude</th></tr></thead>\n",
       "<tbody>\n",
       "\t<tr><td>190                                                     </td><td>NASA and the CGIAR Consortium for Spatial Information   </td><td>meters                                                  </td><td>The height of the surface above sea level at this point.</td><td>42.0586                                                 </td><td>-87.6845                                                </td></tr>\n",
       "</tbody>\n",
       "</table>\n"
      ],
      "text/latex": [
       "\\begin{tabular}{r|llllll}\n",
       " statistics.elevation.value & statistics.elevation.source\\_name & statistics.elevation.units & statistics.elevation.description & location.latitude & location.longitude\\\\\n",
       "\\hline\n",
       "\t 190                                                      & NASA and the CGIAR Consortium for Spatial Information    & meters                                                   & The height of the surface above sea level at this point. & 42.0586                                                  & -87.6845                                                \\\\\n",
       "\\end{tabular}\n"
      ],
      "text/markdown": [
       "\n",
       "statistics.elevation.value | statistics.elevation.source_name | statistics.elevation.units | statistics.elevation.description | location.latitude | location.longitude | \n",
       "|---|\n",
       "| 190                                                      | NASA and the CGIAR Consortium for Spatial Information    | meters                                                   | The height of the surface above sea level at this point. | 42.0586                                                  | -87.6845                                                 | \n",
       "\n",
       "\n"
      ],
      "text/plain": [
       "  statistics.elevation.value\n",
       "1 190                       \n",
       "  statistics.elevation.source_name                     \n",
       "1 NASA and the CGIAR Consortium for Spatial Information\n",
       "  statistics.elevation.units\n",
       "1 meters                    \n",
       "  statistics.elevation.description                         location.latitude\n",
       "1 The height of the surface above sea level at this point. 42.0586          \n",
       "  location.longitude\n",
       "1 -87.6845          "
      ]
     },
     "metadata": {},
     "output_type": "display_data"
    },
    {
     "data": {
      "text/html": [
       "<table>\n",
       "<thead><tr><th scope=col>statistics.elevation.value</th><th scope=col>statistics.elevation.source_name</th><th scope=col>statistics.elevation.units</th><th scope=col>statistics.elevation.description</th><th scope=col>location.latitude</th><th scope=col>location.longitude</th><th scope=col>ip.address</th><th scope=col>dma_code</th><th scope=col>latitude</th><th scope=col>country_code3</th><th scope=col>area_code</th><th scope=col>longitude</th><th scope=col>country_name</th><th scope=col>postal_code</th><th scope=col>region</th><th scope=col>locality</th><th scope=col>country_code</th></tr></thead>\n",
       "<tbody>\n",
       "\t<tr><td>190                                                     </td><td>NASA and the CGIAR Consortium for Spatial Information   </td><td>meters                                                  </td><td>The height of the surface above sea level at this point.</td><td>42.0586                                                 </td><td>-87.6845                                                </td><td>165.124.145.197                                         </td><td>602                                                     </td><td>42.0586                                                 </td><td>USA                                                     </td><td>847                                                     </td><td>-87.6845                                                </td><td>United States                                           </td><td>60208                                                   </td><td>IL                                                      </td><td>Evanston                                                </td><td>US                                                      </td></tr>\n",
       "</tbody>\n",
       "</table>\n"
      ],
      "text/latex": [
       "\\begin{tabular}{r|lllllllllllllllll}\n",
       " statistics.elevation.value & statistics.elevation.source\\_name & statistics.elevation.units & statistics.elevation.description & location.latitude & location.longitude & ip.address & dma\\_code & latitude & country\\_code3 & area\\_code & longitude & country\\_name & postal\\_code & region & locality & country\\_code\\\\\n",
       "\\hline\n",
       "\t 190                                                      & NASA and the CGIAR Consortium for Spatial Information    & meters                                                   & The height of the surface above sea level at this point. & 42.0586                                                  & -87.6845                                                 & 165.124.145.197                                          & 602                                                      & 42.0586                                                  & USA                                                      & 847                                                      & -87.6845                                                 & United States                                            & 60208                                                    & IL                                                       & Evanston                                                 & US                                                      \\\\\n",
       "\\end{tabular}\n"
      ],
      "text/markdown": [
       "\n",
       "statistics.elevation.value | statistics.elevation.source_name | statistics.elevation.units | statistics.elevation.description | location.latitude | location.longitude | ip.address | dma_code | latitude | country_code3 | area_code | longitude | country_name | postal_code | region | locality | country_code | \n",
       "|---|\n",
       "| 190                                                      | NASA and the CGIAR Consortium for Spatial Information    | meters                                                   | The height of the surface above sea level at this point. | 42.0586                                                  | -87.6845                                                 | 165.124.145.197                                          | 602                                                      | 42.0586                                                  | USA                                                      | 847                                                      | -87.6845                                                 | United States                                            | 60208                                                    | IL                                                       | Evanston                                                 | US                                                       | \n",
       "\n",
       "\n"
      ],
      "text/plain": [
       "  statistics.elevation.value\n",
       "1 190                       \n",
       "  statistics.elevation.source_name                     \n",
       "1 NASA and the CGIAR Consortium for Spatial Information\n",
       "  statistics.elevation.units\n",
       "1 meters                    \n",
       "  statistics.elevation.description                         location.latitude\n",
       "1 The height of the surface above sea level at this point. 42.0586          \n",
       "  location.longitude ip.address      dma_code latitude country_code3 area_code\n",
       "1 -87.6845           165.124.145.197 602      42.0586  USA           847      \n",
       "  longitude country_name  postal_code region locality country_code\n",
       "1 -87.6845  United States 60208       IL     Evanston US          "
      ]
     },
     "metadata": {},
     "output_type": "display_data"
    }
   ],
   "source": [
    "#Exercise 3: Derive the elevation of that location using the lattitude and longitude. Use the function coordinate coordinates2statistics() function to achieve this.Once you get the elevation store this back as one of the features of stat.\n",
    "coordinates2statistics(stat[3], stat[6], 'elevation') -> elevation\n",
    "elevation\n",
    "merge(elevation, stat) -> stat\n",
    "stat"
   ]
  },
  {
   "cell_type": "code",
   "execution_count": 39,
   "metadata": {
    "collapsed": false
   },
   "outputs": [
    {
     "data": {
      "text/html": [
       "<table>\n",
       "<thead><tr><th scope=col>statistics.population_density.value</th><th scope=col>statistics.population_density.source_name</th><th scope=col>statistics.population_density.description</th><th scope=col>location.latitude</th><th scope=col>location.longitude</th></tr></thead>\n",
       "<tbody>\n",
       "\t<tr><td>3040                                                                                             </td><td>NASA Socioeconomic Data and Applications Center (SEDAC) – Hosted by CIESIN at Columbia University</td><td>The number of inhabitants per square kilometer around this point.                                </td><td>42.0586                                                                                          </td><td>-87.6845                                                                                         </td></tr>\n",
       "</tbody>\n",
       "</table>\n"
      ],
      "text/latex": [
       "\\begin{tabular}{r|lllll}\n",
       " statistics.population\\_density.value & statistics.population\\_density.source\\_name & statistics.population\\_density.description & location.latitude & location.longitude\\\\\n",
       "\\hline\n",
       "\t 3040                                                                                              & NASA Socioeconomic Data and Applications Center (SEDAC) – Hosted by CIESIN at Columbia University & The number of inhabitants per square kilometer around this point.                                 & 42.0586                                                                                           & -87.6845                                                                                         \\\\\n",
       "\\end{tabular}\n"
      ],
      "text/markdown": [
       "\n",
       "statistics.population_density.value | statistics.population_density.source_name | statistics.population_density.description | location.latitude | location.longitude | \n",
       "|---|\n",
       "| 3040                                                                                              | NASA Socioeconomic Data and Applications Center (SEDAC) – Hosted by CIESIN at Columbia University | The number of inhabitants per square kilometer around this point.                                 | 42.0586                                                                                           | -87.6845                                                                                          | \n",
       "\n",
       "\n"
      ],
      "text/plain": [
       "  statistics.population_density.value\n",
       "1 3040                               \n",
       "  statistics.population_density.source_name                                                        \n",
       "1 NASA Socioeconomic Data and Applications Center (SEDAC)  Hosted by CIESIN at Columbia University\n",
       "  statistics.population_density.description                        \n",
       "1 The number of inhabitants per square kilometer around this point.\n",
       "  location.latitude location.longitude\n",
       "1 42.0586           -87.6845          "
      ]
     },
     "metadata": {},
     "output_type": "display_data"
    },
    {
     "data": {
      "text/html": [
       "<table>\n",
       "<thead><tr><th scope=col>location.latitude</th><th scope=col>location.longitude</th><th scope=col>statistics.elevation.value</th><th scope=col>statistics.elevation.source_name</th><th scope=col>statistics.elevation.units</th><th scope=col>statistics.elevation.description</th><th scope=col>ip.address</th><th scope=col>dma_code</th><th scope=col>latitude</th><th scope=col>country_code3</th><th scope=col>area_code</th><th scope=col>longitude</th><th scope=col>country_name</th><th scope=col>postal_code</th><th scope=col>region</th><th scope=col>locality</th><th scope=col>country_code</th><th scope=col>statistics.population_density.value</th><th scope=col>statistics.population_density.source_name</th><th scope=col>statistics.population_density.description</th></tr></thead>\n",
       "<tbody>\n",
       "\t<tr><td>42.0586                                                                                          </td><td>-87.6845                                                                                         </td><td>190                                                                                              </td><td>NASA and the CGIAR Consortium for Spatial Information                                            </td><td>meters                                                                                           </td><td>The height of the surface above sea level at this point.                                         </td><td>165.124.145.197                                                                                  </td><td>602                                                                                              </td><td>42.0586                                                                                          </td><td>USA                                                                                              </td><td>847                                                                                              </td><td>-87.6845                                                                                         </td><td>United States                                                                                    </td><td>60208                                                                                            </td><td>IL                                                                                               </td><td>Evanston                                                                                         </td><td>US                                                                                               </td><td>3040                                                                                             </td><td>NASA Socioeconomic Data and Applications Center (SEDAC) – Hosted by CIESIN at Columbia University</td><td>The number of inhabitants per square kilometer around this point.                                </td></tr>\n",
       "</tbody>\n",
       "</table>\n"
      ],
      "text/latex": [
       "\\begin{tabular}{r|llllllllllllllllllll}\n",
       " location.latitude & location.longitude & statistics.elevation.value & statistics.elevation.source\\_name & statistics.elevation.units & statistics.elevation.description & ip.address & dma\\_code & latitude & country\\_code3 & area\\_code & longitude & country\\_name & postal\\_code & region & locality & country\\_code & statistics.population\\_density.value & statistics.population\\_density.source\\_name & statistics.population\\_density.description\\\\\n",
       "\\hline\n",
       "\t 42.0586                                                                                           & -87.6845                                                                                          & 190                                                                                               & NASA and the CGIAR Consortium for Spatial Information                                             & meters                                                                                            & The height of the surface above sea level at this point.                                          & 165.124.145.197                                                                                   & 602                                                                                               & 42.0586                                                                                           & USA                                                                                               & 847                                                                                               & -87.6845                                                                                          & United States                                                                                     & 60208                                                                                             & IL                                                                                                & Evanston                                                                                          & US                                                                                                & 3040                                                                                              & NASA Socioeconomic Data and Applications Center (SEDAC) – Hosted by CIESIN at Columbia University & The number of inhabitants per square kilometer around this point.                                \\\\\n",
       "\\end{tabular}\n"
      ],
      "text/markdown": [
       "\n",
       "location.latitude | location.longitude | statistics.elevation.value | statistics.elevation.source_name | statistics.elevation.units | statistics.elevation.description | ip.address | dma_code | latitude | country_code3 | area_code | longitude | country_name | postal_code | region | locality | country_code | statistics.population_density.value | statistics.population_density.source_name | statistics.population_density.description | \n",
       "|---|\n",
       "| 42.0586                                                                                           | -87.6845                                                                                          | 190                                                                                               | NASA and the CGIAR Consortium for Spatial Information                                             | meters                                                                                            | The height of the surface above sea level at this point.                                          | 165.124.145.197                                                                                   | 602                                                                                               | 42.0586                                                                                           | USA                                                                                               | 847                                                                                               | -87.6845                                                                                          | United States                                                                                     | 60208                                                                                             | IL                                                                                                | Evanston                                                                                          | US                                                                                                | 3040                                                                                              | NASA Socioeconomic Data and Applications Center (SEDAC) – Hosted by CIESIN at Columbia University | The number of inhabitants per square kilometer around this point.                                 | \n",
       "\n",
       "\n"
      ],
      "text/plain": [
       "  location.latitude location.longitude statistics.elevation.value\n",
       "1 42.0586           -87.6845           190                       \n",
       "  statistics.elevation.source_name                     \n",
       "1 NASA and the CGIAR Consortium for Spatial Information\n",
       "  statistics.elevation.units\n",
       "1 meters                    \n",
       "  statistics.elevation.description                         ip.address     \n",
       "1 The height of the surface above sea level at this point. 165.124.145.197\n",
       "  dma_code latitude country_code3 area_code longitude country_name  postal_code\n",
       "1 602      42.0586  USA           847       -87.6845  United States 60208      \n",
       "  region locality country_code statistics.population_density.value\n",
       "1 IL     Evanston US           3040                               \n",
       "  statistics.population_density.source_name                                                        \n",
       "1 NASA Socioeconomic Data and Applications Center (SEDAC)  Hosted by CIESIN at Columbia University\n",
       "  statistics.population_density.description                        \n",
       "1 The number of inhabitants per square kilometer around this point."
      ]
     },
     "metadata": {},
     "output_type": "display_data"
    },
    {
     "data": {
      "text/html": [
       "<table>\n",
       "<thead><tr><th scope=col>statistics.elevation.value</th><th scope=col>statistics.elevation.source_name</th><th scope=col>statistics.elevation.units</th><th scope=col>statistics.elevation.description</th><th scope=col>location.latitude</th><th scope=col>location.longitude</th><th scope=col>ip.address</th><th scope=col>dma_code</th><th scope=col>latitude</th><th scope=col>country_code3</th><th scope=col>area_code</th><th scope=col>longitude</th><th scope=col>country_name</th><th scope=col>postal_code</th><th scope=col>region</th><th scope=col>locality</th><th scope=col>country_code</th></tr></thead>\n",
       "<tbody>\n",
       "\t<tr><td>190                                                     </td><td>NASA and the CGIAR Consortium for Spatial Information   </td><td>meters                                                  </td><td>The height of the surface above sea level at this point.</td><td>42.0586                                                 </td><td>-87.6845                                                </td><td>165.124.145.197                                         </td><td>602                                                     </td><td>42.0586                                                 </td><td>USA                                                     </td><td>847                                                     </td><td>-87.6845                                                </td><td>United States                                           </td><td>60208                                                   </td><td>IL                                                      </td><td>Evanston                                                </td><td>US                                                      </td></tr>\n",
       "</tbody>\n",
       "</table>\n"
      ],
      "text/latex": [
       "\\begin{tabular}{r|lllllllllllllllll}\n",
       " statistics.elevation.value & statistics.elevation.source\\_name & statistics.elevation.units & statistics.elevation.description & location.latitude & location.longitude & ip.address & dma\\_code & latitude & country\\_code3 & area\\_code & longitude & country\\_name & postal\\_code & region & locality & country\\_code\\\\\n",
       "\\hline\n",
       "\t 190                                                      & NASA and the CGIAR Consortium for Spatial Information    & meters                                                   & The height of the surface above sea level at this point. & 42.0586                                                  & -87.6845                                                 & 165.124.145.197                                          & 602                                                      & 42.0586                                                  & USA                                                      & 847                                                      & -87.6845                                                 & United States                                            & 60208                                                    & IL                                                       & Evanston                                                 & US                                                      \\\\\n",
       "\\end{tabular}\n"
      ],
      "text/markdown": [
       "\n",
       "statistics.elevation.value | statistics.elevation.source_name | statistics.elevation.units | statistics.elevation.description | location.latitude | location.longitude | ip.address | dma_code | latitude | country_code3 | area_code | longitude | country_name | postal_code | region | locality | country_code | \n",
       "|---|\n",
       "| 190                                                      | NASA and the CGIAR Consortium for Spatial Information    | meters                                                   | The height of the surface above sea level at this point. | 42.0586                                                  | -87.6845                                                 | 165.124.145.197                                          | 602                                                      | 42.0586                                                  | USA                                                      | 847                                                      | -87.6845                                                 | United States                                            | 60208                                                    | IL                                                       | Evanston                                                 | US                                                       | \n",
       "\n",
       "\n"
      ],
      "text/plain": [
       "  statistics.elevation.value\n",
       "1 190                       \n",
       "  statistics.elevation.source_name                     \n",
       "1 NASA and the CGIAR Consortium for Spatial Information\n",
       "  statistics.elevation.units\n",
       "1 meters                    \n",
       "  statistics.elevation.description                         location.latitude\n",
       "1 The height of the surface above sea level at this point. 42.0586          \n",
       "  location.longitude ip.address      dma_code latitude country_code3 area_code\n",
       "1 -87.6845           165.124.145.197 602      42.0586  USA           847      \n",
       "  longitude country_name  postal_code region locality country_code\n",
       "1 -87.6845  United States 60208       IL     Evanston US          "
      ]
     },
     "metadata": {},
     "output_type": "display_data"
    }
   ],
   "source": [
    "#Exercise 4\n",
    "#    Derive the population_density of that location using the lattitude and longitude. \n",
    "#   Use the function coordinate coordinates2statistics() function to achieve this. \n",
    "#    Once you get the elevation store this back as one of the features of stat called pop_den.\n",
    "coordinates2statistics(stat[5], stat[6], 'population_density') -> pop_den\n",
    "pop_den\n",
    "merge(stat, pop_den)\n",
    "stat"
   ]
  },
  {
   "cell_type": "code",
   "execution_count": 41,
   "metadata": {
    "collapsed": false
   },
   "outputs": [
    {
     "data": {
      "text/html": [
       "<strong>statistics.mean_temperature.value:</strong> 9.55"
      ],
      "text/latex": [
       "\\textbf{statistics.mean\\textbackslash{}\\_temperature.value:} 9.55"
      ],
      "text/markdown": [
       "**statistics.mean_temperature.value:** 9.55"
      ],
      "text/plain": [
       "statistics.mean_temperature.value \n",
       "                             9.55 "
      ]
     },
     "metadata": {},
     "output_type": "display_data"
    },
    {
     "data": {
      "text/html": [
       "<table>\n",
       "<thead><tr><th scope=col>statistics.elevation.value</th><th scope=col>statistics.elevation.source_name</th><th scope=col>statistics.elevation.units</th><th scope=col>statistics.elevation.description</th><th scope=col>location.latitude</th><th scope=col>location.longitude</th><th scope=col>ip.address</th><th scope=col>dma_code</th><th scope=col>latitude</th><th scope=col>country_code3</th><th scope=col>area_code</th><th scope=col>longitude</th><th scope=col>country_name</th><th scope=col>postal_code</th><th scope=col>region</th><th scope=col>locality</th><th scope=col>country_code</th><th scope=col>y</th></tr></thead>\n",
       "<tbody>\n",
       "\t<tr><td>190                                                     </td><td>NASA and the CGIAR Consortium for Spatial Information   </td><td>meters                                                  </td><td>The height of the surface above sea level at this point.</td><td>42.0586                                                 </td><td>-87.6845                                                </td><td>165.124.145.197                                         </td><td>602                                                     </td><td>42.0586                                                 </td><td>USA                                                     </td><td>847                                                     </td><td>-87.6845                                                </td><td>United States                                           </td><td>60208                                                   </td><td>IL                                                      </td><td>Evanston                                                </td><td>US                                                      </td><td>9.55                                                    </td></tr>\n",
       "</tbody>\n",
       "</table>\n"
      ],
      "text/latex": [
       "\\begin{tabular}{r|llllllllllllllllll}\n",
       " statistics.elevation.value & statistics.elevation.source\\_name & statistics.elevation.units & statistics.elevation.description & location.latitude & location.longitude & ip.address & dma\\_code & latitude & country\\_code3 & area\\_code & longitude & country\\_name & postal\\_code & region & locality & country\\_code & y\\\\\n",
       "\\hline\n",
       "\t 190                                                      & NASA and the CGIAR Consortium for Spatial Information    & meters                                                   & The height of the surface above sea level at this point. & 42.0586                                                  & -87.6845                                                 & 165.124.145.197                                          & 602                                                      & 42.0586                                                  & USA                                                      & 847                                                      & -87.6845                                                 & United States                                            & 60208                                                    & IL                                                       & Evanston                                                 & US                                                       & 9.55                                                    \\\\\n",
       "\\end{tabular}\n"
      ],
      "text/markdown": [
       "\n",
       "statistics.elevation.value | statistics.elevation.source_name | statistics.elevation.units | statistics.elevation.description | location.latitude | location.longitude | ip.address | dma_code | latitude | country_code3 | area_code | longitude | country_name | postal_code | region | locality | country_code | y | \n",
       "|---|\n",
       "| 190                                                      | NASA and the CGIAR Consortium for Spatial Information    | meters                                                   | The height of the surface above sea level at this point. | 42.0586                                                  | -87.6845                                                 | 165.124.145.197                                          | 602                                                      | 42.0586                                                  | USA                                                      | 847                                                      | -87.6845                                                 | United States                                            | 60208                                                    | IL                                                       | Evanston                                                 | US                                                       | 9.55                                                     | \n",
       "\n",
       "\n"
      ],
      "text/plain": [
       "  statistics.elevation.value\n",
       "1 190                       \n",
       "  statistics.elevation.source_name                     \n",
       "1 NASA and the CGIAR Consortium for Spatial Information\n",
       "  statistics.elevation.units\n",
       "1 meters                    \n",
       "  statistics.elevation.description                         location.latitude\n",
       "1 The height of the surface above sea level at this point. 42.0586          \n",
       "  location.longitude ip.address      dma_code latitude country_code3 area_code\n",
       "1 -87.6845           165.124.145.197 602      42.0586  USA           847      \n",
       "  longitude country_name  postal_code region locality country_code y   \n",
       "1 -87.6845  United States 60208       IL     Evanston US           9.55"
      ]
     },
     "metadata": {},
     "output_type": "display_data"
    },
    {
     "data": {
      "text/html": [
       "<table>\n",
       "<thead><tr><th scope=col>statistics.elevation.value</th><th scope=col>statistics.elevation.source_name</th><th scope=col>statistics.elevation.units</th><th scope=col>statistics.elevation.description</th><th scope=col>location.latitude</th><th scope=col>location.longitude</th><th scope=col>ip.address</th><th scope=col>dma_code</th><th scope=col>latitude</th><th scope=col>country_code3</th><th scope=col>area_code</th><th scope=col>longitude</th><th scope=col>country_name</th><th scope=col>postal_code</th><th scope=col>region</th><th scope=col>locality</th><th scope=col>country_code</th></tr></thead>\n",
       "<tbody>\n",
       "\t<tr><td>190                                                     </td><td>NASA and the CGIAR Consortium for Spatial Information   </td><td>meters                                                  </td><td>The height of the surface above sea level at this point.</td><td>42.0586                                                 </td><td>-87.6845                                                </td><td>165.124.145.197                                         </td><td>602                                                     </td><td>42.0586                                                 </td><td>USA                                                     </td><td>847                                                     </td><td>-87.6845                                                </td><td>United States                                           </td><td>60208                                                   </td><td>IL                                                      </td><td>Evanston                                                </td><td>US                                                      </td></tr>\n",
       "</tbody>\n",
       "</table>\n"
      ],
      "text/latex": [
       "\\begin{tabular}{r|lllllllllllllllll}\n",
       " statistics.elevation.value & statistics.elevation.source\\_name & statistics.elevation.units & statistics.elevation.description & location.latitude & location.longitude & ip.address & dma\\_code & latitude & country\\_code3 & area\\_code & longitude & country\\_name & postal\\_code & region & locality & country\\_code\\\\\n",
       "\\hline\n",
       "\t 190                                                      & NASA and the CGIAR Consortium for Spatial Information    & meters                                                   & The height of the surface above sea level at this point. & 42.0586                                                  & -87.6845                                                 & 165.124.145.197                                          & 602                                                      & 42.0586                                                  & USA                                                      & 847                                                      & -87.6845                                                 & United States                                            & 60208                                                    & IL                                                       & Evanston                                                 & US                                                      \\\\\n",
       "\\end{tabular}\n"
      ],
      "text/markdown": [
       "\n",
       "statistics.elevation.value | statistics.elevation.source_name | statistics.elevation.units | statistics.elevation.description | location.latitude | location.longitude | ip.address | dma_code | latitude | country_code3 | area_code | longitude | country_name | postal_code | region | locality | country_code | \n",
       "|---|\n",
       "| 190                                                      | NASA and the CGIAR Consortium for Spatial Information    | meters                                                   | The height of the surface above sea level at this point. | 42.0586                                                  | -87.6845                                                 | 165.124.145.197                                          | 602                                                      | 42.0586                                                  | USA                                                      | 847                                                      | -87.6845                                                 | United States                                            | 60208                                                    | IL                                                       | Evanston                                                 | US                                                       | \n",
       "\n",
       "\n"
      ],
      "text/plain": [
       "  statistics.elevation.value\n",
       "1 190                       \n",
       "  statistics.elevation.source_name                     \n",
       "1 NASA and the CGIAR Consortium for Spatial Information\n",
       "  statistics.elevation.units\n",
       "1 meters                    \n",
       "  statistics.elevation.description                         location.latitude\n",
       "1 The height of the surface above sea level at this point. 42.0586          \n",
       "  location.longitude ip.address      dma_code latitude country_code3 area_code\n",
       "1 -87.6845           165.124.145.197 602      42.0586  USA           847      \n",
       "  longitude country_name  postal_code region locality country_code\n",
       "1 -87.6845  United States 60208       IL     Evanston US          "
      ]
     },
     "metadata": {},
     "output_type": "display_data"
    }
   ],
   "source": [
    "#Exercise 6\n",
    "#\n",
    "#    We have to transform the mean_temperature so we can store this as one of the features in our stat dataset. \n",
    "#    One way to do this is to convert it from long to wide format but that would be too reduntant. \n",
    "#    Let’s just find the mean temperature from January-December. \n",
    "#    You might find the _sapply function_ useful to convert each element in the list to integers.\n",
    "\n",
    "sapply(coordinates2statistics(stat[5],stat[6],\"mean_temperature\")[1], function(x) mean(x)) -> mean_temp\n",
    "mean_temp\n",
    "merge(stat, mean_temp)\n",
    "stat"
   ]
  },
  {
   "cell_type": "code",
   "execution_count": 43,
   "metadata": {
    "collapsed": false
   },
   "outputs": [
    {
     "data": {
      "text/html": [
       "<strong>statistics.mean_temperature.value:</strong> 9.55"
      ],
      "text/latex": [
       "\\textbf{statistics.mean\\textbackslash{}\\_temperature.value:} 9.55"
      ],
      "text/markdown": [
       "**statistics.mean_temperature.value:** 9.55"
      ],
      "text/plain": [
       "statistics.mean_temperature.value \n",
       "                             9.55 "
      ]
     },
     "metadata": {},
     "output_type": "display_data"
    },
    {
     "data": {
      "text/html": [
       "<table>\n",
       "<thead><tr><th scope=col>statistics.elevation.value</th><th scope=col>statistics.elevation.source_name</th><th scope=col>statistics.elevation.units</th><th scope=col>statistics.elevation.description</th><th scope=col>location.latitude</th><th scope=col>location.longitude</th><th scope=col>ip.address</th><th scope=col>dma_code</th><th scope=col>latitude</th><th scope=col>country_code3</th><th scope=col>area_code</th><th scope=col>longitude</th><th scope=col>country_name</th><th scope=col>postal_code</th><th scope=col>region</th><th scope=col>locality</th><th scope=col>country_code</th><th scope=col>y</th></tr></thead>\n",
       "<tbody>\n",
       "\t<tr><td>190                                                     </td><td>NASA and the CGIAR Consortium for Spatial Information   </td><td>meters                                                  </td><td>The height of the surface above sea level at this point.</td><td>42.0586                                                 </td><td>-87.6845                                                </td><td>165.124.145.197                                         </td><td>602                                                     </td><td>42.0586                                                 </td><td>USA                                                     </td><td>847                                                     </td><td>-87.6845                                                </td><td>United States                                           </td><td>60208                                                   </td><td>IL                                                      </td><td>Evanston                                                </td><td>US                                                      </td><td>9.55                                                    </td></tr>\n",
       "</tbody>\n",
       "</table>\n"
      ],
      "text/latex": [
       "\\begin{tabular}{r|llllllllllllllllll}\n",
       " statistics.elevation.value & statistics.elevation.source\\_name & statistics.elevation.units & statistics.elevation.description & location.latitude & location.longitude & ip.address & dma\\_code & latitude & country\\_code3 & area\\_code & longitude & country\\_name & postal\\_code & region & locality & country\\_code & y\\\\\n",
       "\\hline\n",
       "\t 190                                                      & NASA and the CGIAR Consortium for Spatial Information    & meters                                                   & The height of the surface above sea level at this point. & 42.0586                                                  & -87.6845                                                 & 165.124.145.197                                          & 602                                                      & 42.0586                                                  & USA                                                      & 847                                                      & -87.6845                                                 & United States                                            & 60208                                                    & IL                                                       & Evanston                                                 & US                                                       & 9.55                                                    \\\\\n",
       "\\end{tabular}\n"
      ],
      "text/markdown": [
       "\n",
       "statistics.elevation.value | statistics.elevation.source_name | statistics.elevation.units | statistics.elevation.description | location.latitude | location.longitude | ip.address | dma_code | latitude | country_code3 | area_code | longitude | country_name | postal_code | region | locality | country_code | y | \n",
       "|---|\n",
       "| 190                                                      | NASA and the CGIAR Consortium for Spatial Information    | meters                                                   | The height of the surface above sea level at this point. | 42.0586                                                  | -87.6845                                                 | 165.124.145.197                                          | 602                                                      | 42.0586                                                  | USA                                                      | 847                                                      | -87.6845                                                 | United States                                            | 60208                                                    | IL                                                       | Evanston                                                 | US                                                       | 9.55                                                     | \n",
       "\n",
       "\n"
      ],
      "text/plain": [
       "  statistics.elevation.value\n",
       "1 190                       \n",
       "  statistics.elevation.source_name                     \n",
       "1 NASA and the CGIAR Consortium for Spatial Information\n",
       "  statistics.elevation.units\n",
       "1 meters                    \n",
       "  statistics.elevation.description                         location.latitude\n",
       "1 The height of the surface above sea level at this point. 42.0586          \n",
       "  location.longitude ip.address      dma_code latitude country_code3 area_code\n",
       "1 -87.6845           165.124.145.197 602      42.0586  USA           847      \n",
       "  longitude country_name  postal_code region locality country_code y   \n",
       "1 -87.6845  United States 60208       IL     Evanston US           9.55"
      ]
     },
     "metadata": {},
     "output_type": "display_data"
    },
    {
     "data": {
      "text/html": [
       "<table>\n",
       "<thead><tr><th scope=col>statistics.elevation.value</th><th scope=col>statistics.elevation.source_name</th><th scope=col>statistics.elevation.units</th><th scope=col>statistics.elevation.description</th><th scope=col>location.latitude</th><th scope=col>location.longitude</th><th scope=col>ip.address</th><th scope=col>dma_code</th><th scope=col>latitude</th><th scope=col>country_code3</th><th scope=col>area_code</th><th scope=col>longitude</th><th scope=col>country_name</th><th scope=col>postal_code</th><th scope=col>region</th><th scope=col>locality</th><th scope=col>country_code</th></tr></thead>\n",
       "<tbody>\n",
       "\t<tr><td>190                                                     </td><td>NASA and the CGIAR Consortium for Spatial Information   </td><td>meters                                                  </td><td>The height of the surface above sea level at this point.</td><td>42.0586                                                 </td><td>-87.6845                                                </td><td>165.124.145.197                                         </td><td>602                                                     </td><td>42.0586                                                 </td><td>USA                                                     </td><td>847                                                     </td><td>-87.6845                                                </td><td>United States                                           </td><td>60208                                                   </td><td>IL                                                      </td><td>Evanston                                                </td><td>US                                                      </td></tr>\n",
       "</tbody>\n",
       "</table>\n"
      ],
      "text/latex": [
       "\\begin{tabular}{r|lllllllllllllllll}\n",
       " statistics.elevation.value & statistics.elevation.source\\_name & statistics.elevation.units & statistics.elevation.description & location.latitude & location.longitude & ip.address & dma\\_code & latitude & country\\_code3 & area\\_code & longitude & country\\_name & postal\\_code & region & locality & country\\_code\\\\\n",
       "\\hline\n",
       "\t 190                                                      & NASA and the CGIAR Consortium for Spatial Information    & meters                                                   & The height of the surface above sea level at this point. & 42.0586                                                  & -87.6845                                                 & 165.124.145.197                                          & 602                                                      & 42.0586                                                  & USA                                                      & 847                                                      & -87.6845                                                 & United States                                            & 60208                                                    & IL                                                       & Evanston                                                 & US                                                      \\\\\n",
       "\\end{tabular}\n"
      ],
      "text/markdown": [
       "\n",
       "statistics.elevation.value | statistics.elevation.source_name | statistics.elevation.units | statistics.elevation.description | location.latitude | location.longitude | ip.address | dma_code | latitude | country_code3 | area_code | longitude | country_name | postal_code | region | locality | country_code | \n",
       "|---|\n",
       "| 190                                                      | NASA and the CGIAR Consortium for Spatial Information    | meters                                                   | The height of the surface above sea level at this point. | 42.0586                                                  | -87.6845                                                 | 165.124.145.197                                          | 602                                                      | 42.0586                                                  | USA                                                      | 847                                                      | -87.6845                                                 | United States                                            | 60208                                                    | IL                                                       | Evanston                                                 | US                                                       | \n",
       "\n",
       "\n"
      ],
      "text/plain": [
       "  statistics.elevation.value\n",
       "1 190                       \n",
       "  statistics.elevation.source_name                     \n",
       "1 NASA and the CGIAR Consortium for Spatial Information\n",
       "  statistics.elevation.units\n",
       "1 meters                    \n",
       "  statistics.elevation.description                         location.latitude\n",
       "1 The height of the surface above sea level at this point. 42.0586          \n",
       "  location.longitude ip.address      dma_code latitude country_code3 area_code\n",
       "1 -87.6845           165.124.145.197 602      42.0586  USA           847      \n",
       "  longitude country_name  postal_code region locality country_code\n",
       "1 -87.6845  United States 60208       IL     Evanston US          "
      ]
     },
     "metadata": {},
     "output_type": "display_data"
    }
   ],
   "source": [
    "#Exercise 7\n",
    "#\n",
    "#    We decided we do not really need January-December mean value. \n",
    "#    We actually need the mean temperature from June-December. \n",
    "#    Make that adjustment to your last code and store the results back in stat under the name mean_temp\n",
    "sapply(coordinates2statistics(stat[5],stat[6],\"mean_temperature\")[1], function(x) mean(x)[-6]) -> mean_temp\n",
    "mean_temp\n",
    "merge(stat, mean_temp)\n",
    "stat"
   ]
  },
  {
   "cell_type": "code",
   "execution_count": 37,
   "metadata": {
    "collapsed": false
   },
   "outputs": [
    {
     "data": {
      "text/html": [
       "<table>\n",
       "<thead><tr><th scope=col>list</th></tr></thead>\n",
       "<tbody>\n",
       "\t<tr><td>165.124.145.197</td></tr>\n",
       "\t<tr><td>31.24.74.155   </td></tr>\n",
       "\t<tr><td>79.129.19.173  </td></tr>\n",
       "</tbody>\n",
       "</table>\n"
      ],
      "text/latex": [
       "\\begin{tabular}{r|l}\n",
       " list\\\\\n",
       "\\hline\n",
       "\t 165.124.145.197\\\\\n",
       "\t 31.24.74.155   \\\\\n",
       "\t 79.129.19.173  \\\\\n",
       "\\end{tabular}\n"
      ],
      "text/markdown": [
       "\n",
       "list | \n",
       "|---|---|---|\n",
       "| 165.124.145.197 | \n",
       "| 31.24.74.155    | \n",
       "| 79.129.19.173   | \n",
       "\n",
       "\n"
      ],
      "text/plain": [
       "  list           \n",
       "1 165.124.145.197\n",
       "2 31.24.74.155   \n",
       "3 79.129.19.173  "
      ]
     },
     "metadata": {},
     "output_type": "display_data"
    }
   ],
   "source": [
    "#Exercise 8\n",
    "#   Okay great. Now lets work with more IP-address data. \n",
    "#    Here is a list of a few ip-addresses scraped from a few commenters of my exercises.\n",
    "list=c('165.124.145.197','31.24.74.155',\"79.129.19.173\")\n",
    "df=data.frame(list)\n",
    "df[,1]=as.character(df[,1])\n",
    "df"
   ]
  },
  {
   "cell_type": "code",
   "execution_count": 70,
   "metadata": {
    "collapsed": false
   },
   "outputs": [
    {
     "data": {
      "text/html": [
       "<table>\n",
       "<thead><tr><th></th><th scope=col>165.124.145.197</th><th scope=col>31.24.74.155</th><th scope=col>79.129.19.173</th></tr></thead>\n",
       "<tbody>\n",
       "\t<tr><th scope=row>location.latitude</th><td>42.0586</td><td>57.1   </td><td>39.7378</td></tr>\n",
       "\t<tr><th scope=row>location.longitude</th><td>-87.6845</td><td>12.25   </td><td>22.2892 </td></tr>\n",
       "\t<tr><th scope=row>statistics.elevation.description</th><td>1</td><td>1</td><td>1</td></tr>\n",
       "\t<tr><th scope=row>statistics.elevation.units</th><td>1</td><td>1</td><td>1</td></tr>\n",
       "\t<tr><th scope=row>statistics.elevation.source_name</th><td>1</td><td>1</td><td>1</td></tr>\n",
       "\t<tr><th scope=row>statistics.elevation.value</th><td>190</td><td>18 </td><td>94 </td></tr>\n",
       "\t<tr><th scope=row>ip.address</th><td>165.124.145.197</td><td>31.24.74.155   </td><td>79.129.19.173  </td></tr>\n",
       "\t<tr><th scope=row>dma_code</th><td>602</td><td>0  </td><td>0  </td></tr>\n",
       "\t<tr><th scope=row>latitude</th><td>42.0586</td><td>57.1   </td><td>39.7378</td></tr>\n",
       "\t<tr><th scope=row>country_code3</th><td>1</td><td>1</td><td>1</td></tr>\n",
       "\t<tr><th scope=row>area_code</th><td>847</td><td>0  </td><td>0  </td></tr>\n",
       "\t<tr><th scope=row>longitude</th><td>-87.6845</td><td>12.25   </td><td>22.2892 </td></tr>\n",
       "\t<tr><th scope=row>country_name</th><td>1</td><td>1</td><td>1</td></tr>\n",
       "\t<tr><th scope=row>postal_code</th><td>1</td><td>1</td><td>1</td></tr>\n",
       "\t<tr><th scope=row>region</th><td>1</td><td>1</td><td>1</td></tr>\n",
       "\t<tr><th scope=row>locality</th><td>1</td><td>1</td><td>1</td></tr>\n",
       "\t<tr><th scope=row>country_code</th><td>1</td><td>1</td><td>1</td></tr>\n",
       "\t<tr><th scope=row>y</th><td>42.0586</td><td>57.1   </td><td>39.7378</td></tr>\n",
       "</tbody>\n",
       "</table>\n"
      ],
      "text/latex": [
       "\\begin{tabular}{r|lll}\n",
       "  & 165.124.145.197 & 31.24.74.155 & 79.129.19.173\\\\\n",
       "\\hline\n",
       "\tlocation.latitude & 42.0586 & 57.1    & 39.7378\\\\\n",
       "\tlocation.longitude & -87.6845 & 12.25    & 22.2892 \\\\\n",
       "\tstatistics.elevation.description & 1 & 1 & 1\\\\\n",
       "\tstatistics.elevation.units & 1 & 1 & 1\\\\\n",
       "\tstatistics.elevation.source\\_name & 1 & 1 & 1\\\\\n",
       "\tstatistics.elevation.value & 190 & 18  & 94 \\\\\n",
       "\tip.address & 165.124.145.197 & 31.24.74.155    & 79.129.19.173  \\\\\n",
       "\tdma\\_code & 602 & 0   & 0  \\\\\n",
       "\tlatitude & 42.0586 & 57.1    & 39.7378\\\\\n",
       "\tcountry\\_code3 & 1 & 1 & 1\\\\\n",
       "\tarea\\_code & 847 & 0   & 0  \\\\\n",
       "\tlongitude & -87.6845 & 12.25    & 22.2892 \\\\\n",
       "\tcountry\\_name & 1 & 1 & 1\\\\\n",
       "\tpostal\\_code & 1 & 1 & 1\\\\\n",
       "\tregion & 1 & 1 & 1\\\\\n",
       "\tlocality & 1 & 1 & 1\\\\\n",
       "\tcountry\\_code & 1 & 1 & 1\\\\\n",
       "\ty & 42.0586 & 57.1    & 39.7378\\\\\n",
       "\\end{tabular}\n"
      ],
      "text/markdown": [
       "\n",
       "| <!--/--> | 165.124.145.197 | 31.24.74.155 | 79.129.19.173 | \n",
       "|---|---|---|---|---|---|---|---|---|---|---|---|---|---|---|---|---|---|\n",
       "| location.latitude | 42.0586 | 57.1    | 39.7378 | \n",
       "| location.longitude | -87.6845 | 12.25    | 22.2892  | \n",
       "| statistics.elevation.description | 1 | 1 | 1 | \n",
       "| statistics.elevation.units | 1 | 1 | 1 | \n",
       "| statistics.elevation.source_name | 1 | 1 | 1 | \n",
       "| statistics.elevation.value | 190 | 18  | 94  | \n",
       "| ip.address | 165.124.145.197 | 31.24.74.155    | 79.129.19.173   | \n",
       "| dma_code | 602 | 0   | 0   | \n",
       "| latitude | 42.0586 | 57.1    | 39.7378 | \n",
       "| country_code3 | 1 | 1 | 1 | \n",
       "| area_code | 847 | 0   | 0   | \n",
       "| longitude | -87.6845 | 12.25    | 22.2892  | \n",
       "| country_name | 1 | 1 | 1 | \n",
       "| postal_code | 1 | 1 | 1 | \n",
       "| region | 1 | 1 | 1 | \n",
       "| locality | 1 | 1 | 1 | \n",
       "| country_code | 1 | 1 | 1 | \n",
       "| y | 42.0586 | 57.1    | 39.7378 | \n",
       "\n",
       "\n"
      ],
      "text/plain": [
       "                                 165.124.145.197 31.24.74.155 79.129.19.173\n",
       "location.latitude                42.0586         57.1         39.7378      \n",
       "location.longitude               -87.6845        12.25        22.2892      \n",
       "statistics.elevation.description 1               1            1            \n",
       "statistics.elevation.units       1               1            1            \n",
       "statistics.elevation.source_name 1               1            1            \n",
       "statistics.elevation.value       190             18           94           \n",
       "ip.address                       165.124.145.197 31.24.74.155 79.129.19.173\n",
       "dma_code                         602             0            0            \n",
       "latitude                         42.0586         57.1         39.7378      \n",
       "country_code3                    1               1            1            \n",
       "area_code                        847             0            0            \n",
       "longitude                        -87.6845        12.25        22.2892      \n",
       "country_name                     1               1            1            \n",
       "postal_code                      1               1            1            \n",
       "region                           1               1            1            \n",
       "locality                         1               1            1            \n",
       "country_code                     1               1            1            \n",
       "y                                42.0586         57.1         39.7378      "
      ]
     },
     "metadata": {},
     "output_type": "display_data"
    }
   ],
   "source": [
    "#Exercise 9\n",
    "#Use a iterator like apply that will go through the list and derive its statistics with the ip2coordinates() function. This is the first part. You may get a list within list sort of result. Store this in a variable called data\n",
    "#Exercise 10\n",
    "#Use a method to convert that list within list into a dataframe with 3 rows and all columns derived \n",
    "#from the ip2coordinates() function. You are open to use any method for this.\n",
    "stat <- sapply(list, function(x) {\n",
    "ip2coordinates(x) -> stat\n",
    "coordinates2statistics(stat[3], stat[6], 'elevation') -> elevation\n",
    "lat <- stat[3]\n",
    "long <- stat[6]\n",
    "merge(elevation, stat) -> stat\n",
    "coordinates2statistics(lat, long, 'population_density') -> pop_den\n",
    "sapply(coordinates2statistics(lat,long,\"mean_temperature\")[1], function(x) mean(x)[-6]) -> mean_temp\n",
    "merge(stat, mean_temp)})\n",
    "stat"
   ]
  }
 ],
 "metadata": {
  "anaconda-cloud": {},
  "kernelspec": {
   "display_name": "R",
   "language": "R",
   "name": "ir"
  },
  "language_info": {
   "codemirror_mode": "r",
   "file_extension": ".r",
   "mimetype": "text/x-r-source",
   "name": "R",
   "pygments_lexer": "r",
   "version": "3.2.2"
  }
 },
 "nbformat": 4,
 "nbformat_minor": 1
}
